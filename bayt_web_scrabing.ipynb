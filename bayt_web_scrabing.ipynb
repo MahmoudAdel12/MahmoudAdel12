{
 "cells": [
  {
   "cell_type": "code",
   "execution_count": 1,
   "id": "5768b515",
   "metadata": {},
   "outputs": [],
   "source": [
    "import requests\n",
    "from bs4 import BeautifulSoup\n",
    "import time \n",
    "import pandas as pd\n",
    "import numpy as np\n",
    "from matplotlib import pyplot as plt"
   ]
  },
  {
   "cell_type": "markdown",
   "id": "2053fe14",
   "metadata": {},
   "source": [
    "# Testing of request"
   ]
  },
  {
   "cell_type": "code",
   "execution_count": 2,
   "id": "79cc6e97",
   "metadata": {},
   "outputs": [
    {
     "name": "stdout",
     "output_type": "stream",
     "text": [
      "<Response [200]>\n"
     ]
    }
   ],
   "source": [
    "Base_URL = 'https://www.bayt.com/en/egypt/jobs/machine-learning-jobs/'\n",
    "page = requests.get(Base_URL,headers = {'User-Agent':'Mozilla/5.0'})\n",
    "soup = BeautifulSoup(page.content, 'html.parser')\n",
    "print(page)"
   ]
  },
  {
   "cell_type": "code",
   "execution_count": 20,
   "id": "15958a07",
   "metadata": {},
   "outputs": [],
   "source": [
    "# print(soup.prettify)"
   ]
  },
  {
   "cell_type": "code",
   "execution_count": 4,
   "id": "d4e8c53c",
   "metadata": {},
   "outputs": [],
   "source": [
    "def loader(items):\n",
    "    its = []\n",
    "    for item in items : \n",
    "        its.append(item.text.strip())\n",
    "    return its\n",
    "\n",
    "def link_loader(Base_URL,items):\n",
    "    its = []\n",
    "    for item in items : \n",
    "        its.append(Base_URL+item.a['href'])\n",
    "    return its\n",
    "\n",
    "def describtion_loader(item):\n",
    "    item.find_all('p')[0].text.replace('\\n',' ')\n",
    "    "
   ]
  },
  {
   "cell_type": "code",
   "execution_count": 5,
   "id": "3307f43b",
   "metadata": {},
   "outputs": [],
   "source": [
    "# 'https://www.bayt.com'\n",
    "Machine_Learning_jobs = []\n",
    "Job_links = []\n",
    "Companies_Name = []\n",
    "Describtions = []\n",
    "Date = []\n",
    "for page_num in range(1,6):\n",
    "    Base_URL = f'https://www.bayt.com/en/egypt/jobs/machine-learning-jobs/?page={page_num}'\n",
    "    page = requests.get(Base_URL,headers = {'User-Agent':'Mozilla/5.0'})\n",
    "    soup = BeautifulSoup(page.content, 'html.parser')\n",
    "#     soup.find_all('h2',\"jb-title\")[0].text.strip()\n",
    "    \n",
    "    Machine_Learning_jobs.append(loader(soup.find_all('h2',\"jb-title\")))\n",
    "    \n",
    "    Companies_Name.append(loader(soup.find_all('b',\"jb-company\")))\n",
    "    \n",
    "    Date.append(loader(soup.find_all('div',\"jb-date\")))\n",
    "    \n",
    "    Job_links.append(link_loader('https://www.bayt.com',soup.find_all('h2',\"jb-title\")))\n",
    "    \n",
    "    time.sleep(5)\n",
    "    \n",
    "    \n",
    "#     Describtions.append(loader(soup.find_all('div',\"jb-descr\")))\n",
    "    \n",
    "#     print(Describtions)\n",
    "# print()    \n",
    "# print(Machine_Learning_jobs)\n",
    "# print()\n",
    "# print(Companies_Name)\n",
    "# print()\n",
    "# print(Job_links)\n",
    "# print()"
   ]
  },
  {
   "cell_type": "markdown",
   "id": "6fa0d0c5",
   "metadata": {},
   "source": [
    "# Make list in one dimantion or flat"
   ]
  },
  {
   "cell_type": "code",
   "execution_count": 6,
   "id": "03536f5f",
   "metadata": {},
   "outputs": [],
   "source": [
    "def flat(lis):\n",
    "    flatList = []\n",
    "    # Iterate with outer list\n",
    "    for element in lis:\n",
    "        if type(element) is list:\n",
    "            # Check if type is list than iterate through the sublist\n",
    "            for item in element:\n",
    "                flatList.append(item)\n",
    "        else:\n",
    "            flatList.append(element)\n",
    "    return flatList"
   ]
  },
  {
   "cell_type": "code",
   "execution_count": 7,
   "id": "79b0dcd5",
   "metadata": {},
   "outputs": [
    {
     "data": {
      "text/plain": [
       "5"
      ]
     },
     "execution_count": 7,
     "metadata": {},
     "output_type": "execute_result"
    }
   ],
   "source": [
    "len(Machine_Learning_jobs)"
   ]
  },
  {
   "cell_type": "code",
   "execution_count": 8,
   "id": "039ad6d9",
   "metadata": {},
   "outputs": [
    {
     "data": {
      "text/html": [
       "<div>\n",
       "<style scoped>\n",
       "    .dataframe tbody tr th:only-of-type {\n",
       "        vertical-align: middle;\n",
       "    }\n",
       "\n",
       "    .dataframe tbody tr th {\n",
       "        vertical-align: top;\n",
       "    }\n",
       "\n",
       "    .dataframe thead th {\n",
       "        text-align: right;\n",
       "    }\n",
       "</style>\n",
       "<table border=\"1\" class=\"dataframe\">\n",
       "  <thead>\n",
       "    <tr style=\"text-align: right;\">\n",
       "      <th></th>\n",
       "      <th>Machine_Learning_Job</th>\n",
       "    </tr>\n",
       "  </thead>\n",
       "  <tbody>\n",
       "    <tr>\n",
       "      <th>0</th>\n",
       "      <td>Solution Architect</td>\n",
       "    </tr>\n",
       "    <tr>\n",
       "      <th>1</th>\n",
       "      <td>Machine Learning Engineer</td>\n",
       "    </tr>\n",
       "    <tr>\n",
       "      <th>2</th>\n",
       "      <td>AI/Machine Learning Engineering Lead</td>\n",
       "    </tr>\n",
       "    <tr>\n",
       "      <th>3</th>\n",
       "      <td>Senior Software Developer, Machine Learning</td>\n",
       "    </tr>\n",
       "    <tr>\n",
       "      <th>4</th>\n",
       "      <td>AI/ML (Artificial Intelligence/Machine Learnin...</td>\n",
       "    </tr>\n",
       "    <tr>\n",
       "      <th>...</th>\n",
       "      <td>...</td>\n",
       "    </tr>\n",
       "    <tr>\n",
       "      <th>93</th>\n",
       "      <td>Professor / Associate Professor / Lecturer of ...</td>\n",
       "    </tr>\n",
       "    <tr>\n",
       "      <th>94</th>\n",
       "      <td>Technical Performance Specialist - Cyber Security</td>\n",
       "    </tr>\n",
       "    <tr>\n",
       "      <th>95</th>\n",
       "      <td>DevSecOps Eng</td>\n",
       "    </tr>\n",
       "    <tr>\n",
       "      <th>96</th>\n",
       "      <td>Product Analyst</td>\n",
       "    </tr>\n",
       "    <tr>\n",
       "      <th>97</th>\n",
       "      <td>Front-End Developer</td>\n",
       "    </tr>\n",
       "  </tbody>\n",
       "</table>\n",
       "<p>98 rows × 1 columns</p>\n",
       "</div>"
      ],
      "text/plain": [
       "                                 Machine_Learning_Job\n",
       "0                                  Solution Architect\n",
       "1                           Machine Learning Engineer\n",
       "2                AI/Machine Learning Engineering Lead\n",
       "3         Senior Software Developer, Machine Learning\n",
       "4   AI/ML (Artificial Intelligence/Machine Learnin...\n",
       "..                                                ...\n",
       "93  Professor / Associate Professor / Lecturer of ...\n",
       "94  Technical Performance Specialist - Cyber Security\n",
       "95                                      DevSecOps Eng\n",
       "96                                    Product Analyst\n",
       "97                                Front-End Developer\n",
       "\n",
       "[98 rows x 1 columns]"
      ]
     },
     "execution_count": 8,
     "metadata": {},
     "output_type": "execute_result"
    }
   ],
   "source": [
    "Machine_Learning_jobs = flat(Machine_Learning_jobs)\n",
    "Machine_Learning_jobs_data = pd.DataFrame({'Machine_Learning_Job':Machine_Learning_jobs})\n",
    "Machine_Learning_jobs_data"
   ]
  },
  {
   "cell_type": "code",
   "execution_count": 9,
   "id": "8401920b",
   "metadata": {},
   "outputs": [],
   "source": [
    "Companies = flat(Companies_Name)\n"
   ]
  },
  {
   "cell_type": "code",
   "execution_count": 10,
   "id": "cc595b67",
   "metadata": {},
   "outputs": [
    {
     "data": {
      "text/html": [
       "<div>\n",
       "<style scoped>\n",
       "    .dataframe tbody tr th:only-of-type {\n",
       "        vertical-align: middle;\n",
       "    }\n",
       "\n",
       "    .dataframe tbody tr th {\n",
       "        vertical-align: top;\n",
       "    }\n",
       "\n",
       "    .dataframe thead th {\n",
       "        text-align: right;\n",
       "    }\n",
       "</style>\n",
       "<table border=\"1\" class=\"dataframe\">\n",
       "  <thead>\n",
       "    <tr style=\"text-align: right;\">\n",
       "      <th></th>\n",
       "      <th>Machine_Learning_Job</th>\n",
       "    </tr>\n",
       "  </thead>\n",
       "  <tbody>\n",
       "    <tr>\n",
       "      <th>0</th>\n",
       "      <td>Solution Architect</td>\n",
       "    </tr>\n",
       "    <tr>\n",
       "      <th>1</th>\n",
       "      <td>Machine Learning Engineer</td>\n",
       "    </tr>\n",
       "    <tr>\n",
       "      <th>2</th>\n",
       "      <td>AI/Machine Learning Engineering Lead</td>\n",
       "    </tr>\n",
       "    <tr>\n",
       "      <th>3</th>\n",
       "      <td>Senior Software Developer, Machine Learning</td>\n",
       "    </tr>\n",
       "    <tr>\n",
       "      <th>4</th>\n",
       "      <td>AI/ML (Artificial Intelligence/Machine Learnin...</td>\n",
       "    </tr>\n",
       "    <tr>\n",
       "      <th>...</th>\n",
       "      <td>...</td>\n",
       "    </tr>\n",
       "    <tr>\n",
       "      <th>93</th>\n",
       "      <td>Professor / Associate Professor / Lecturer of ...</td>\n",
       "    </tr>\n",
       "    <tr>\n",
       "      <th>94</th>\n",
       "      <td>Technical Performance Specialist - Cyber Security</td>\n",
       "    </tr>\n",
       "    <tr>\n",
       "      <th>95</th>\n",
       "      <td>DevSecOps Eng</td>\n",
       "    </tr>\n",
       "    <tr>\n",
       "      <th>96</th>\n",
       "      <td>Product Analyst</td>\n",
       "    </tr>\n",
       "    <tr>\n",
       "      <th>97</th>\n",
       "      <td>Front-End Developer</td>\n",
       "    </tr>\n",
       "  </tbody>\n",
       "</table>\n",
       "<p>98 rows × 1 columns</p>\n",
       "</div>"
      ],
      "text/plain": [
       "                                 Machine_Learning_Job\n",
       "0                                  Solution Architect\n",
       "1                           Machine Learning Engineer\n",
       "2                AI/Machine Learning Engineering Lead\n",
       "3         Senior Software Developer, Machine Learning\n",
       "4   AI/ML (Artificial Intelligence/Machine Learnin...\n",
       "..                                                ...\n",
       "93  Professor / Associate Professor / Lecturer of ...\n",
       "94  Technical Performance Specialist - Cyber Security\n",
       "95                                      DevSecOps Eng\n",
       "96                                    Product Analyst\n",
       "97                                Front-End Developer\n",
       "\n",
       "[98 rows x 1 columns]"
      ]
     },
     "execution_count": 10,
     "metadata": {},
     "output_type": "execute_result"
    }
   ],
   "source": [
    "Machine_Learning_jobs = flat(Machine_Learning_jobs)\n",
    "Machine_Learning_jobs_data = pd.DataFrame({'Machine_Learning_Job':Machine_Learning_jobs})\n",
    "Machine_Learning_jobs_data"
   ]
  },
  {
   "cell_type": "code",
   "execution_count": 19,
   "id": "17eb1c20",
   "metadata": {},
   "outputs": [],
   "source": [
    "Date_data = flat(Date)\n",
    "Data_data = pd.DataFrame({'Date':Date_data})\n",
    "# Date_data"
   ]
  },
  {
   "cell_type": "code",
   "execution_count": 12,
   "id": "48ddb072",
   "metadata": {
    "scrolled": true
   },
   "outputs": [],
   "source": [
    "Job_links = flat(Job_links)"
   ]
  },
  {
   "cell_type": "code",
   "execution_count": 13,
   "id": "02bd84a9",
   "metadata": {},
   "outputs": [],
   "source": [
    "Describtions = []\n",
    "for decribtion_link in Job_links : \n",
    "    page = requests.get(decribtion_link , headers = {'User-Agent':'Mozilla/5.0'})\n",
    "    soup = BeautifulSoup(page.content,'html.parser')\n",
    "    Describtions.append(soup.find('div','card-content is-spaced').find_all('p')[0].text.replace('\\n',' '))\n",
    "# Describtions   "
   ]
  },
  {
   "cell_type": "code",
   "execution_count": 14,
   "id": "9e90f93d",
   "metadata": {},
   "outputs": [
    {
     "data": {
      "text/html": [
       "<div>\n",
       "<style scoped>\n",
       "    .dataframe tbody tr th:only-of-type {\n",
       "        vertical-align: middle;\n",
       "    }\n",
       "\n",
       "    .dataframe tbody tr th {\n",
       "        vertical-align: top;\n",
       "    }\n",
       "\n",
       "    .dataframe thead th {\n",
       "        text-align: right;\n",
       "    }\n",
       "</style>\n",
       "<table border=\"1\" class=\"dataframe\">\n",
       "  <thead>\n",
       "    <tr style=\"text-align: right;\">\n",
       "      <th></th>\n",
       "      <th>Describtion</th>\n",
       "    </tr>\n",
       "  </thead>\n",
       "  <tbody>\n",
       "    <tr>\n",
       "      <th>0</th>\n",
       "      <td>We are looking for an innovative solution arch...</td>\n",
       "    </tr>\n",
       "    <tr>\n",
       "      <th>1</th>\n",
       "      <td>Unifonic is a customer engagement platform tha...</td>\n",
       "    </tr>\n",
       "    <tr>\n",
       "      <th>2</th>\n",
       "      <td>Unifonic is a customer engagement platform tha...</td>\n",
       "    </tr>\n",
       "    <tr>\n",
       "      <th>3</th>\n",
       "      <td>Position:Senior Software Developer, Machine Le...</td>\n",
       "    </tr>\n",
       "    <tr>\n",
       "      <th>4</th>\n",
       "      <td>Position:AI/ML (Artificial Intelligence/Machin...</td>\n",
       "    </tr>\n",
       "    <tr>\n",
       "      <th>...</th>\n",
       "      <td>...</td>\n",
       "    </tr>\n",
       "    <tr>\n",
       "      <th>93</th>\n",
       "      <td>The German University in Cairo invites applica...</td>\n",
       "    </tr>\n",
       "    <tr>\n",
       "      <th>94</th>\n",
       "      <td>Udacity is on a mission to change lives, busin...</td>\n",
       "    </tr>\n",
       "    <tr>\n",
       "      <th>95</th>\n",
       "      <td>To help us build secure and functional systems...</td>\n",
       "    </tr>\n",
       "    <tr>\n",
       "      <th>96</th>\n",
       "      <td>Unifonic is a customer engagement platform tha...</td>\n",
       "    </tr>\n",
       "    <tr>\n",
       "      <th>97</th>\n",
       "      <td>Front-End DeveloperCairo / VAES – Engineering ...</td>\n",
       "    </tr>\n",
       "  </tbody>\n",
       "</table>\n",
       "<p>98 rows × 1 columns</p>\n",
       "</div>"
      ],
      "text/plain": [
       "                                          Describtion\n",
       "0   We are looking for an innovative solution arch...\n",
       "1   Unifonic is a customer engagement platform tha...\n",
       "2   Unifonic is a customer engagement platform tha...\n",
       "3   Position:Senior Software Developer, Machine Le...\n",
       "4   Position:AI/ML (Artificial Intelligence/Machin...\n",
       "..                                                ...\n",
       "93  The German University in Cairo invites applica...\n",
       "94  Udacity is on a mission to change lives, busin...\n",
       "95  To help us build secure and functional systems...\n",
       "96  Unifonic is a customer engagement platform tha...\n",
       "97  Front-End DeveloperCairo / VAES – Engineering ...\n",
       "\n",
       "[98 rows x 1 columns]"
      ]
     },
     "execution_count": 14,
     "metadata": {},
     "output_type": "execute_result"
    }
   ],
   "source": [
    "Describtion = pd.DataFrame({'Describtion':Describtions})\n",
    "Describtion"
   ]
  },
  {
   "cell_type": "code",
   "execution_count": 15,
   "id": "12d33229",
   "metadata": {},
   "outputs": [],
   "source": [
    "result = pd.DataFrame({'Machine_Learning_jobs':Machine_Learning_jobs,'Company':Companies, 'Job_links':Job_links, 'Date':Date_data, 'Describtion':Describtions})\n"
   ]
  },
  {
   "cell_type": "code",
   "execution_count": 16,
   "id": "0b13fec7",
   "metadata": {},
   "outputs": [
    {
     "data": {
      "text/html": [
       "<div>\n",
       "<style scoped>\n",
       "    .dataframe tbody tr th:only-of-type {\n",
       "        vertical-align: middle;\n",
       "    }\n",
       "\n",
       "    .dataframe tbody tr th {\n",
       "        vertical-align: top;\n",
       "    }\n",
       "\n",
       "    .dataframe thead th {\n",
       "        text-align: right;\n",
       "    }\n",
       "</style>\n",
       "<table border=\"1\" class=\"dataframe\">\n",
       "  <thead>\n",
       "    <tr style=\"text-align: right;\">\n",
       "      <th></th>\n",
       "      <th>Machine_Learning_jobs</th>\n",
       "      <th>Company</th>\n",
       "      <th>Job_links</th>\n",
       "      <th>Date</th>\n",
       "      <th>Describtion</th>\n",
       "    </tr>\n",
       "  </thead>\n",
       "  <tbody>\n",
       "    <tr>\n",
       "      <th>0</th>\n",
       "      <td>Solution Architect</td>\n",
       "      <td>GIZA Systems</td>\n",
       "      <td>https://www.bayt.com/en/egypt/jobs/solution-ar...</td>\n",
       "      <td>25 days ago</td>\n",
       "      <td>We are looking for an innovative solution arch...</td>\n",
       "    </tr>\n",
       "    <tr>\n",
       "      <th>1</th>\n",
       "      <td>Machine Learning Engineer</td>\n",
       "      <td>UNIFONIC</td>\n",
       "      <td>https://www.bayt.com/en/egypt/jobs/machine-lea...</td>\n",
       "      <td>29 days ago</td>\n",
       "      <td>Unifonic is a customer engagement platform tha...</td>\n",
       "    </tr>\n",
       "    <tr>\n",
       "      <th>2</th>\n",
       "      <td>AI/Machine Learning Engineering Lead</td>\n",
       "      <td>UNIFONIC</td>\n",
       "      <td>https://www.bayt.com/en/egypt/jobs/ai-machine-...</td>\n",
       "      <td>27 days ago</td>\n",
       "      <td>Unifonic is a customer engagement platform tha...</td>\n",
       "    </tr>\n",
       "    <tr>\n",
       "      <th>3</th>\n",
       "      <td>Senior Software Developer, Machine Learning</td>\n",
       "      <td>Arrow Electronics, Inc</td>\n",
       "      <td>https://www.bayt.com/en/egypt/jobs/senior-soft...</td>\n",
       "      <td>30+ days ago</td>\n",
       "      <td>Position:Senior Software Developer, Machine Le...</td>\n",
       "    </tr>\n",
       "    <tr>\n",
       "      <th>4</th>\n",
       "      <td>AI/ML (Artificial Intelligence/Machine Learnin...</td>\n",
       "      <td>Arrow Electronics, Inc</td>\n",
       "      <td>https://www.bayt.com/en/egypt/jobs/ai-ml-artif...</td>\n",
       "      <td>30+ days ago</td>\n",
       "      <td>Position:AI/ML (Artificial Intelligence/Machin...</td>\n",
       "    </tr>\n",
       "    <tr>\n",
       "      <th>...</th>\n",
       "      <td>...</td>\n",
       "      <td>...</td>\n",
       "      <td>...</td>\n",
       "      <td>...</td>\n",
       "      <td>...</td>\n",
       "    </tr>\n",
       "    <tr>\n",
       "      <th>93</th>\n",
       "      <td>Professor / Associate Professor / Lecturer of ...</td>\n",
       "      <td>GUC</td>\n",
       "      <td>https://www.bayt.com/en/egypt/jobs/professor-a...</td>\n",
       "      <td>30+ days ago</td>\n",
       "      <td>The German University in Cairo invites applica...</td>\n",
       "    </tr>\n",
       "    <tr>\n",
       "      <th>94</th>\n",
       "      <td>Technical Performance Specialist - Cyber Security</td>\n",
       "      <td>udacity</td>\n",
       "      <td>https://www.bayt.com/en/egypt/jobs/technical-p...</td>\n",
       "      <td>30+ days ago</td>\n",
       "      <td>Udacity is on a mission to change lives, busin...</td>\n",
       "    </tr>\n",
       "    <tr>\n",
       "      <th>95</th>\n",
       "      <td>DevSecOps Eng</td>\n",
       "      <td>Rabbit Mart BV</td>\n",
       "      <td>https://www.bayt.com/en/egypt/jobs/devsecops-e...</td>\n",
       "      <td>30+ days ago</td>\n",
       "      <td>To help us build secure and functional systems...</td>\n",
       "    </tr>\n",
       "    <tr>\n",
       "      <th>96</th>\n",
       "      <td>Product Analyst</td>\n",
       "      <td>UNIFONIC</td>\n",
       "      <td>https://www.bayt.com/en/egypt/jobs/product-ana...</td>\n",
       "      <td>30+ days ago</td>\n",
       "      <td>Unifonic is a customer engagement platform tha...</td>\n",
       "    </tr>\n",
       "    <tr>\n",
       "      <th>97</th>\n",
       "      <td>Front-End Developer</td>\n",
       "      <td>e.construct Fz LLC</td>\n",
       "      <td>https://www.bayt.com/en/egypt/jobs/front-end-d...</td>\n",
       "      <td>30+ days ago</td>\n",
       "      <td>Front-End DeveloperCairo / VAES – Engineering ...</td>\n",
       "    </tr>\n",
       "  </tbody>\n",
       "</table>\n",
       "<p>98 rows × 5 columns</p>\n",
       "</div>"
      ],
      "text/plain": [
       "                                Machine_Learning_jobs                 Company  \\\n",
       "0                                  Solution Architect            GIZA Systems   \n",
       "1                           Machine Learning Engineer                UNIFONIC   \n",
       "2                AI/Machine Learning Engineering Lead                UNIFONIC   \n",
       "3         Senior Software Developer, Machine Learning  Arrow Electronics, Inc   \n",
       "4   AI/ML (Artificial Intelligence/Machine Learnin...  Arrow Electronics, Inc   \n",
       "..                                                ...                     ...   \n",
       "93  Professor / Associate Professor / Lecturer of ...                     GUC   \n",
       "94  Technical Performance Specialist - Cyber Security                 udacity   \n",
       "95                                      DevSecOps Eng          Rabbit Mart BV   \n",
       "96                                    Product Analyst                UNIFONIC   \n",
       "97                                Front-End Developer      e.construct Fz LLC   \n",
       "\n",
       "                                            Job_links          Date  \\\n",
       "0   https://www.bayt.com/en/egypt/jobs/solution-ar...   25 days ago   \n",
       "1   https://www.bayt.com/en/egypt/jobs/machine-lea...   29 days ago   \n",
       "2   https://www.bayt.com/en/egypt/jobs/ai-machine-...   27 days ago   \n",
       "3   https://www.bayt.com/en/egypt/jobs/senior-soft...  30+ days ago   \n",
       "4   https://www.bayt.com/en/egypt/jobs/ai-ml-artif...  30+ days ago   \n",
       "..                                                ...           ...   \n",
       "93  https://www.bayt.com/en/egypt/jobs/professor-a...  30+ days ago   \n",
       "94  https://www.bayt.com/en/egypt/jobs/technical-p...  30+ days ago   \n",
       "95  https://www.bayt.com/en/egypt/jobs/devsecops-e...  30+ days ago   \n",
       "96  https://www.bayt.com/en/egypt/jobs/product-ana...  30+ days ago   \n",
       "97  https://www.bayt.com/en/egypt/jobs/front-end-d...  30+ days ago   \n",
       "\n",
       "                                          Describtion  \n",
       "0   We are looking for an innovative solution arch...  \n",
       "1   Unifonic is a customer engagement platform tha...  \n",
       "2   Unifonic is a customer engagement platform tha...  \n",
       "3   Position:Senior Software Developer, Machine Le...  \n",
       "4   Position:AI/ML (Artificial Intelligence/Machin...  \n",
       "..                                                ...  \n",
       "93  The German University in Cairo invites applica...  \n",
       "94  Udacity is on a mission to change lives, busin...  \n",
       "95  To help us build secure and functional systems...  \n",
       "96  Unifonic is a customer engagement platform tha...  \n",
       "97  Front-End DeveloperCairo / VAES – Engineering ...  \n",
       "\n",
       "[98 rows x 5 columns]"
      ]
     },
     "execution_count": 16,
     "metadata": {},
     "output_type": "execute_result"
    }
   ],
   "source": [
    "result"
   ]
  },
  {
   "cell_type": "code",
   "execution_count": 17,
   "id": "087c88ac",
   "metadata": {},
   "outputs": [],
   "source": [
    "result.to_csv('Desktop\\data.csv')"
   ]
  },
  {
   "cell_type": "code",
   "execution_count": 18,
   "id": "a21cb8a9",
   "metadata": {},
   "outputs": [
    {
     "data": {
      "image/png": "[encoded data removed]",
      "text/plain": [
       "<Figure size 432x288 with 1 Axes>"
      ]
     },
     "metadata": {
      "needs_background": "light"
     },
     "output_type": "display_data"
    }
   ],
   "source": [
    "fig = result['Company'].value_counts().plot.bar()"
   ]
  },
  {
   "cell_type": "code",
   "execution_count": null,
   "id": "0e95b606",
   "metadata": {},
   "outputs": [],
   "source": []
  }
 ],
 "metadata": {
  "kernelspec": {
   "display_name": "Python 3 (ipykernel)",
   "language": "python",
   "name": "python3"
  },
  "language_info": {
   "codemirror_mode": {
    "name": "ipython",
    "version": 3
   },
   "file_extension": ".py",
   "mimetype": "text/x-python",
   "name": "python",
   "nbconvert_exporter": "python",
   "pygments_lexer": "ipython3",
   "version": "3.9.7"
  }
 },
 "nbformat": 4,
 "nbformat_minor": 5
}
